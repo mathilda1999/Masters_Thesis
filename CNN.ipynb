{
 "cells": [
  {
   "cell_type": "markdown",
   "metadata": {},
   "source": [
    "## Master's thesis - Recurrent Neural Networks for Lagranigan Tracking of Microorganisms\n",
    "#### Mathilda Gustafsson\n",
    "#### 2025-05-29\n",
    "#### This notebook is used to train a CNN.\n",
    "#### Note that this notebook uses latex in combination with matplotlib"
   ]
  },
  {
   "cell_type": "markdown",
   "metadata": {},
   "source": [
    "Load packages"
   ]
  },
  {
   "cell_type": "code",
   "execution_count": null,
   "metadata": {},
   "outputs": [],
   "source": [
    "# Load packages\n",
    "import deeptrack as dt\n",
    "import numpy as np\n",
    "import matplotlib.pyplot as plt\n",
    "import torch\n",
    "import torch.nn as nn\n",
    "from torch.utils.data import Dataset\n",
    "from torch.utils.data import DataLoader\n",
    "import torch.nn.init as init\n",
    "import importlib\n",
    "\n",
    "# change font of the plots\n",
    "change_fonts = True\n",
    "\n",
    "if change_fonts:\n",
    "    plt.rcParams['font.family'] = ['serif']\n",
    "    plt.rcParams['font.serif'] = ['CMU Serif']\n",
    "    plt.rc('axes', unicode_minus=False)\n",
    "    plt.rcParams['text.usetex'] = True\n",
    "\n",
    "import logging\n",
    "logging.getLogger('matplotlib.texmanager').setLevel(logging.WARNING)\n",
    "\n",
    "light_grey = np.array([232, 232, 232]) / 255\n",
    "mid_grey = np.array([137, 137, 137]) / 255\n",
    "dark_grey = np.array([96, 96, 96]) / 255"
   ]
  },
  {
   "cell_type": "markdown",
   "metadata": {},
   "source": [
    "Load classes for datasets and models"
   ]
  },
  {
   "cell_type": "code",
   "execution_count": null,
   "metadata": {},
   "outputs": [],
   "source": [
    "import definitions_of_classes\n",
    "importlib.reload(definitions_of_classes)\n",
    "from definitions_of_classes import datasetSequentialImages, CNN"
   ]
  },
  {
   "cell_type": "markdown",
   "metadata": {},
   "source": [
    "Load datasets and create dataloaders"
   ]
  },
  {
   "cell_type": "code",
   "execution_count": null,
   "metadata": {},
   "outputs": [],
   "source": [
    "training_set_length = 300\n",
    "validation_set_length = 100\n",
    "\n",
    "dataset_training = torch.load('./Data/dataTrain.pt')\n",
    "dataset_validation = torch.load('./Data/dataValidation.pt')\n",
    "\n",
    "dataLoader_training = DataLoader(dataset = dataset_training, batch_size = 1, shuffle = True) \n",
    "dataLoader_validation = DataLoader(dataset = dataset_validation, batch_size = 1, shuffle = False)"
   ]
  },
  {
   "cell_type": "markdown",
   "metadata": {},
   "source": [
    "Initialize model, loss functions and optimizer"
   ]
  },
  {
   "cell_type": "code",
   "execution_count": null,
   "metadata": {},
   "outputs": [],
   "source": [
    "model_cnn = CNN()\n",
    "\n",
    "loss_function_regression = nn.L1Loss()\n",
    "loss_function_classification = nn.CrossEntropyLoss()\n",
    "\n",
    "learning_rate = 1e-3\n",
    "optimizer = torch.optim.Adam(model_cnn.parameters(), lr = learning_rate)"
   ]
  },
  {
   "cell_type": "markdown",
   "metadata": {},
   "source": [
    "Initialize weights"
   ]
  },
  {
   "cell_type": "code",
   "execution_count": null,
   "metadata": {},
   "outputs": [
    {
     "data": {
      "text/plain": [
       "CNN_MLP(\n",
       "  (ReLU): ReLU()\n",
       "  (leakyReLU): LeakyReLU(negative_slope=0.01)\n",
       "  (batch_norm_1): BatchNorm2d(16, eps=1e-05, momentum=0.1, affine=True, track_running_stats=True)\n",
       "  (batch_norm_2): BatchNorm2d(16, eps=1e-05, momentum=0.1, affine=True, track_running_stats=True)\n",
       "  (batch_norm_3): BatchNorm2d(32, eps=1e-05, momentum=0.1, affine=True, track_running_stats=True)\n",
       "  (batch_norm_4): BatchNorm2d(32, eps=1e-05, momentum=0.1, affine=True, track_running_stats=True)\n",
       "  (batch_norm_5): BatchNorm2d(64, eps=1e-05, momentum=0.1, affine=True, track_running_stats=True)\n",
       "  (batch_norm_6): BatchNorm2d(64, eps=1e-05, momentum=0.1, affine=True, track_running_stats=True)\n",
       "  (batch_norm_7): BatchNorm2d(128, eps=1e-05, momentum=0.1, affine=True, track_running_stats=True)\n",
       "  (batch_norm_8): BatchNorm2d(128, eps=1e-05, momentum=0.1, affine=True, track_running_stats=True)\n",
       "  (conv_1): Conv2d(1, 16, kernel_size=(2, 2), stride=(1, 1), padding=(1, 1))\n",
       "  (conv_2): Conv2d(16, 16, kernel_size=(2, 2), stride=(1, 1))\n",
       "  (maxpool_1): MaxPool2d(kernel_size=2, stride=2, padding=0, dilation=1, ceil_mode=False)\n",
       "  (conv_3): Conv2d(16, 32, kernel_size=(2, 2), stride=(1, 1), padding=(1, 1))\n",
       "  (conv_4): Conv2d(32, 32, kernel_size=(2, 2), stride=(1, 1))\n",
       "  (maxpool_2): MaxPool2d(kernel_size=2, stride=2, padding=0, dilation=1, ceil_mode=False)\n",
       "  (conv_5): Conv2d(32, 64, kernel_size=(2, 2), stride=(1, 1), padding=(1, 1))\n",
       "  (conv_6): Conv2d(64, 64, kernel_size=(2, 2), stride=(1, 1))\n",
       "  (maxpool_3): MaxPool2d(kernel_size=2, stride=2, padding=0, dilation=1, ceil_mode=False)\n",
       "  (conv_7): Conv2d(64, 128, kernel_size=(2, 2), stride=(1, 1), padding=(1, 1))\n",
       "  (conv_8): Conv2d(128, 128, kernel_size=(2, 2), stride=(1, 1))\n",
       "  (maxpool_4): MaxPool2d(kernel_size=3, stride=3, padding=0, dilation=1, ceil_mode=False)\n",
       "  (linear_1): Linear(in_features=3200, out_features=256, bias=True)\n",
       "  (linear_2): Linear(in_features=256, out_features=32, bias=True)\n",
       "  (linear_3): Linear(in_features=32, out_features=32, bias=True)\n",
       "  (linear_4): Linear(in_features=32, out_features=32, bias=True)\n",
       "  (linear_5): Linear(in_features=32, out_features=16, bias=True)\n",
       "  (output): Linear(in_features=16, out_features=2, bias=True)\n",
       ")"
      ]
     },
     "execution_count": 19,
     "metadata": {},
     "output_type": "execute_result"
    }
   ],
   "source": [
    "def init_weights(layer):\n",
    "    if isinstance(layer, nn.Conv2d) or isinstance(layer, nn.ConvTranspose2d):\n",
    "        init.kaiming_normal_(layer.weight, nonlinearity='leaky_relu')\n",
    "        if layer.bias is not None:\n",
    "            init.zeros_(layer.bias)\n",
    "    elif isinstance(layer, nn.Linear):\n",
    "        init.xavier_normal_(layer.weight)\n",
    "        if layer.bias is not None:\n",
    "            init.zeros_(layer.bias)\n",
    "\n",
    "model_cnn.apply(init_weights)"
   ]
  },
  {
   "cell_type": "markdown",
   "metadata": {},
   "source": [
    "Define functions for training one epoch, with different loss functions"
   ]
  },
  {
   "cell_type": "code",
   "execution_count": null,
   "metadata": {},
   "outputs": [],
   "source": [
    "##############################\n",
    "# Training with only L1 loss\n",
    "##############################\n",
    "\n",
    "def one_epoch_training_regression_loss(dataLoader_training, training_loss_per_step, iter_step):\n",
    "\n",
    "    epoch_loss = 0\n",
    "\n",
    "    # load data (one sequence)\n",
    "    for i, data in enumerate(dataLoader_training):\n",
    "\n",
    "        images, positions = data\n",
    "        n_in_sequence = len(images)\n",
    "\n",
    "        optimizer.zero_grad()\n",
    "        loss_one_sequence = 0\n",
    "        \n",
    "        # loop through sequence to send one image through at a time\n",
    "        for j in range(10, n_in_sequence):\n",
    "\n",
    "            output = model_cnn(images[j])\n",
    "\n",
    "            positions_at_time_step = positions[j].numpy()[0]\n",
    "            index_true_position = np.where(positions_at_time_step[:,3] == 1)[0][0]\n",
    "            true_position = positions_at_time_step[index_true_position,0:2] # change to 0:3 for z prediction\n",
    "\n",
    "            loss = loss_function_regression(output[0], torch.tensor(true_position))\n",
    "            loss_one_sequence += loss\n",
    "\n",
    "            # log loss\n",
    "            training_loss_per_step[iter_step] = loss.item()\n",
    "            iter_step += 1\n",
    "            epoch_loss += loss.item()\n",
    "\n",
    "        # update weights after iterating through one sequence\n",
    "        loss_one_sequence.backward()\n",
    "        optimizer.step()         \n",
    "\n",
    "    return training_loss_per_step, epoch_loss, iter_step\n",
    "\n",
    "\n",
    "def one_epoch_validation_regression_loss(dataLoader_test):\n",
    "\n",
    "    loss_per_epoch = 0\n",
    "\n",
    "    for data in iter(dataLoader_test):\n",
    "        images, positions = data\n",
    "        n_in_sequence = len(images)\n",
    "\n",
    "        for i in range(10, n_in_sequence):\n",
    "\n",
    "            output = model_cnn(images[i])\n",
    "\n",
    "            positions_at_time_step = positions[i].numpy()[0]\n",
    "            index_true_position = np.where(positions_at_time_step[:,3] == 1)[0][0]\n",
    "            true_position = positions_at_time_step[index_true_position,0:2] # change to 0:3 for z prediction\n",
    "           \n",
    "            loss = loss_function_regression(output[0], torch.tensor(true_position))\n",
    "            loss_per_epoch += loss.item()\n",
    "\n",
    "    return loss_per_epoch\n",
    "\n",
    "\n",
    "###########################################\n",
    "# Training with L1 and classification loss\n",
    "###########################################\n",
    "\n",
    "def compute_distances_to_true_position(prediction, true_position, additional_positions):\n",
    "\n",
    "    num_particles_total = 1 + len(additional_positions)\n",
    "    distances = torch.zeros(num_particles_total)\n",
    "\n",
    "    # distance to true position\n",
    "    distances[0] =  (prediction - torch.tensor(true_position)).pow(2).sum().sqrt()\n",
    "\n",
    "    # distances to additional positions\n",
    "    for i in range(1, num_particles_total):\n",
    "        additional_position = additional_positions[i-1][0:2] # change to 0:3 to z prediction\n",
    "        distances[i] = (prediction - torch.tensor(additional_position)).pow(2).sum().sqrt()\n",
    "\n",
    "    return distances\n",
    "\n",
    "\n",
    "def one_epoch_training_regression_classification_loss(dataLoader_training, training_loss_per_step, iter_step, weight_reg_loss, weight_class_loss):\n",
    "\n",
    "    epoch_loss = 0\n",
    "    epoch_regression_loss = 0\n",
    "    epoch_classification_loss = 0\n",
    "\n",
    "    # load data (one sequence at a time)\n",
    "    for i, data in enumerate(dataLoader_training):\n",
    "\n",
    "        images, positions = data\n",
    "        n_in_sequence = len(images)\n",
    "\n",
    "        optimizer.zero_grad()\n",
    "        loss_one_sequence = 0\n",
    "        \n",
    "        # loop through rest of the sequence\n",
    "        for j in range(10, n_in_sequence):\n",
    "\n",
    "            output = model_cnn(images[j])\n",
    "\n",
    "            positions_at_time_step = positions[j].numpy()[0]\n",
    "            index_true_position = np.where(positions_at_time_step[:,3] == 1)[0][0]\n",
    "            true_position = positions_at_time_step[index_true_position,0:2] # change to 0:3 for z prediction\n",
    "            additional_positions = np.delete(positions_at_time_step, index_true_position, axis = 0)\n",
    "\n",
    "            # regression loss\n",
    "            loss_regression = loss_function_regression(output[0], torch.tensor(true_position))\n",
    "\n",
    "            # compute probability vector for classification\n",
    "            distances = compute_distances_to_true_position(output, true_position, additional_positions)\n",
    "            probabilities_for_classification_of_correct_particle = nn.functional.softmin(distances, dim = 0)\n",
    "\n",
    "            # classification loss\n",
    "            num_particles = len(positions_at_time_step[:,0])\n",
    "            target_classification = np.zeros(num_particles)\n",
    "            target_classification[0] = 1\n",
    "            target_classification = torch.tensor(target_classification)\n",
    "            loss_classification = loss_function_classification(probabilities_for_classification_of_correct_particle, target_classification)\n",
    "\n",
    "            # log loss\n",
    "            total_loss = weight_reg_loss * loss_regression + weight_class_loss * loss_classification\n",
    "            loss_one_sequence += total_loss\n",
    "            training_loss_per_step[iter_step] = total_loss.item()\n",
    "            iter_step += 1\n",
    "            epoch_loss += total_loss.item()\n",
    "            epoch_regression_loss += loss_regression.item()\n",
    "            epoch_classification_loss += loss_classification.item()\n",
    "\n",
    "        # update weights after iterating through one sequence\n",
    "        loss_one_sequence.backward()\n",
    "        optimizer.step()         \n",
    "\n",
    "    return training_loss_per_step, epoch_loss, epoch_regression_loss, epoch_classification_loss, iter_step\n",
    "\n",
    "\n",
    "def one_epoch_validation_regression_classification_loss(dataLoader_test, weight_reg_loss, weight_class_loss):\n",
    "\n",
    "    loss_per_epoch = 0\n",
    "\n",
    "    for data in iter(dataLoader_test):\n",
    "        images, positions = data\n",
    "        n_in_sequence = len(images)\n",
    "\n",
    "        # loop through rest of the sequence\n",
    "        for i in range(10, n_in_sequence):\n",
    "\n",
    "            positions_at_time_step = positions[i].numpy()[0]\n",
    "            index_true_position = np.where(positions_at_time_step[:,3] == 1)[0][0]\n",
    "            true_position = positions_at_time_step[index_true_position,0:2] # change to 0:3 for z prediction\n",
    "            additional_positions = np.delete(positions_at_time_step, index_true_position, axis = 0)\n",
    "\n",
    "            output = model_cnn(images[i])\n",
    "            \n",
    "            # regresison loss\n",
    "            loss_regression = loss_function_regression(output[0], torch.tensor(true_position))\n",
    "\n",
    "            # classification loss\n",
    "            distances = compute_distances_to_true_position(output, true_position, additional_positions)\n",
    "            probabilities_for_classification_of_correct_particle = nn.functional.softmin(distances, dim = 0)\n",
    "\n",
    "            num_particles = len(positions_at_time_step[:,0])\n",
    "            target_classification = np.zeros(num_particles)\n",
    "            target_classification[0] = 1\n",
    "            target_classification = torch.tensor(target_classification)\n",
    "            loss_classification = loss_function_classification(probabilities_for_classification_of_correct_particle, target_classification)\n",
    "\n",
    "            total_loss = weight_reg_loss * loss_regression + weight_class_loss * loss_classification \n",
    "            loss_per_epoch += total_loss.item()\n",
    "\n",
    "    return loss_per_epoch"
   ]
  },
  {
   "cell_type": "markdown",
   "metadata": {},
   "source": [
    "Train the CNN"
   ]
  },
  {
   "cell_type": "code",
   "execution_count": null,
   "metadata": {},
   "outputs": [
    {
     "name": "stdout",
     "output_type": "stream",
     "text": [
      "epoch: 21, Training loss: 0.0202105076694283, Test loss: 0.027170968325230582\n",
      "epoch: 22, Training loss: 0.019798584807741233, Test loss: 0.029968912825759114\n",
      "epoch: 23, Training loss: 0.019365253013937638, Test loss: 0.025518826167645125\n",
      "epoch: 24, Training loss: 0.018998701954864222, Test loss: 0.08134040282358383\n",
      "epoch: 25, Training loss: 0.0183719749246178, Test loss: 0.02521698923126377\n",
      "epoch: 26, Training loss: 0.018669092487980578, Test loss: 0.025791705562379853\n",
      "epoch: 27, Training loss: 0.017323470978901304, Test loss: 0.026310879175005287\n"
     ]
    }
   ],
   "source": [
    "loss_used = \"L1\" # or \"L1+class\"\n",
    "\n",
    "images_per_sequence = 300\n",
    "images_per_sequence_used_for_prediction = images_per_sequence - 10\n",
    "\n",
    "n_epochs = 10\n",
    "n_steps_per_epoch_validation = validation_set_length * images_per_sequence_used_for_prediction\n",
    "n_steps_per_epoch_train = training_set_length * images_per_sequence_used_for_prediction\n",
    "n_steps_train = n_epochs * n_steps_per_epoch_train\n",
    "\n",
    "training_loss_per_epoch = np.zeros(n_epochs)\n",
    "training_loss_per_step = np.zeros(n_steps_train) \n",
    "validation_loss_per_epoch = np.zeros(n_epochs)\n",
    "\n",
    "weight_reg_loss = 1\n",
    "weight_class_loss = 0.02  # classification loss is about 50 times larger, use weight 0.02 to make similar to regression loss\n",
    "\n",
    "iter_step = 0\n",
    "for epoch in range(n_epochs):\n",
    "\n",
    "    # set training mode\n",
    "    model_cnn.train(True)\n",
    "\n",
    "    if loss_used == \"L1\":\n",
    "\n",
    "        # train one epoch\n",
    "        training_loss_per_step, epoch_loss, iter_step = one_epoch_training_regression_loss(dataLoader_training, training_loss_per_step, iter_step)\n",
    "        \n",
    "        # set eval mode\n",
    "        model_cnn.eval()\n",
    "\n",
    "        # check model on validation data\n",
    "        validation_loss_per_epoch_sum = one_epoch_validation_regression_loss(dataLoader_validation)\n",
    "\n",
    "    elif loss_used == \"L1+class\":\n",
    "    \n",
    "        # train one epoch\n",
    "        training_loss_per_step, epoch_loss, epoch_regression_loss, epoch_classification_loss, iter_step = one_epoch_training_regression_classification_loss(dataLoader_training, training_loss_per_step, iter_step, weight_reg_loss, weight_class_loss)\n",
    "    \n",
    "        # set eval mode\n",
    "        model_cnn.eval()\n",
    "\n",
    "        # check model on validation data\n",
    "        validation_loss_per_epoch_sum = one_epoch_validation_regression_classification_loss(dataLoader_validation, weight_reg_loss, weight_class_loss) \n",
    "\n",
    "    # store loss values\n",
    "    training_loss_per_epoch[epoch] = epoch_loss / n_steps_per_epoch_train\n",
    "    validation_loss_per_epoch[epoch] = validation_loss_per_epoch_sum / n_steps_per_epoch_validation\n",
    "    \n",
    "    print(f\"epoch: {epoch + 1}, Training loss: {epoch_loss / n_steps_per_epoch_train}, Test loss: {validation_loss_per_epoch_sum / n_steps_per_epoch_validation}\")\n",
    "    if loss_used == \"L1+class\":\n",
    "        print(f\"epoch: {epoch + 1}, Training regression loss: {epoch_regression_loss / n_steps_per_epoch_train}, Training classification loss: {epoch_classification_loss / n_steps_per_epoch_train}\")\n"
   ]
  },
  {
   "cell_type": "markdown",
   "metadata": {},
   "source": [
    "Save model"
   ]
  },
  {
   "cell_type": "code",
   "execution_count": null,
   "metadata": {},
   "outputs": [],
   "source": [
    "torch.save(model_cnn.state_dict(), f\"./cnn.pt\")"
   ]
  },
  {
   "cell_type": "markdown",
   "metadata": {},
   "source": [
    "Visualize training process"
   ]
  },
  {
   "cell_type": "code",
   "execution_count": null,
   "metadata": {},
   "outputs": [
    {
     "data": {
      "image/png": "[encoded data removed]",
      "text/plain": [
       "<Figure size 590x400 with 1 Axes>"
      ]
     },
     "metadata": {},
     "output_type": "display_data"
    }
   ],
   "source": [
    "fig, ax = plt.subplots(1,1)\n",
    "font_size = 12\n",
    "\n",
    "epochs = np.arange(1, n_epochs + 1, 1)\n",
    "\n",
    "ax.plot(epochs, training_loss_per_epoch[0:], marker = \"o\", label = \"Training per epoch\", color = dark_grey)\n",
    "ax.plot(epochs, validation_loss_per_epoch[0:], marker = \"o\", label = \"Test per epoch\", color = light_grey)\n",
    "\n",
    "ax.set_xlabel(\"Epoch\", fontsize = font_size)\n",
    "ax.set_ylabel(\"Loss\", fontsize = font_size)\n",
    "\n",
    "ax.set_xticks([5,10,15,20])\n",
    "ax.tick_params(axis='both', which='major', labelsize = 12)\n",
    "ax.tick_params(axis='both', which='minor', labelsize = 12)\n",
    "ax.legend(fontsize = font_size)\n",
    "\n",
    "fig.set_size_inches(5.9, 4)\n",
    "#plt.savefig(\"./training_log.pdf\")\n",
    "plt.tight_layout()\n",
    "plt.show()"
   ]
  }
 ],
 "metadata": {
  "kernelspec": {
   "display_name": "Python 3",
   "language": "python",
   "name": "python3"
  },
  "language_info": {
   "codemirror_mode": {
    "name": "ipython",
    "version": 3
   },
   "file_extension": ".py",
   "mimetype": "text/x-python",
   "name": "python",
   "nbconvert_exporter": "python",
   "pygments_lexer": "ipython3",
   "version": "3.11.3"
  }
 },
 "nbformat": 4,
 "nbformat_minor": 2
}
